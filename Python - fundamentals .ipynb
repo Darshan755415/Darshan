{
 "cells": [
  {
   "cell_type": "markdown",
   "metadata": {
    "delateable": false,
    "editable": false
   },
   "source": [
    "# <div class=\"alert alert-block alert-info\"> <span style=\"font-family: Times New Roman\">Assignment on python fundamentals</span> </div>\n"
   ]
  },
  {
   "cell_type": "markdown",
   "metadata": {
    "delateable": false,
    "editable": false
   },
   "source": [
    "###### Note: \n",
    "<div class=\"alert alert-block alert-danger\"> <span style=\"font-family: Times New Roman\"> \n",
    "    - Kindly use this notebook to solve the programming problems. <br>\n",
    "- Submit assignments with .ipynb file extension only.<br>\n",
    "- Kindly use comments or markdowns to explain logic behind the codes, approach to solve the problem.</span></div>"
   ]
  },
  {
   "cell_type": "markdown",
   "metadata": {
    "delateable": false,
    "editable": false
   },
   "source": [
    "<div class=\"warning\" style='padding:0.1em; background-color:#E9D8FD; color:#69337A'>\n",
    "<span>\n",
    "<p style='margin-top:1em; text-align:left'>\n",
    "<b>1. By using a single 'print' function print the provided string in specified execution format. </b></p>\n",
    "    \n",
    "Hello World     \n",
    "Welcome to 'Python' Programming\n",
    "\n"
   ]
  },
  {
   "cell_type": "code",
   "execution_count": 9,
   "metadata": {},
   "outputs": [
    {
     "name": "stdout",
     "output_type": "stream",
     "text": [
      "Hello World\n",
      "Welcome to 'Python' Programming\n"
     ]
    }
   ],
   "source": [
    "#start your code here\n",
    "print(\"Hello World\\nWelcome to 'Python' Programming\")"
   ]
  },
  {
   "cell_type": "markdown",
   "metadata": {
    "delateable": false,
    "editable": false
   },
   "source": [
    "<div class=\"warning\" style='padding:0.1em; background-color:#E9D8FD; color:#69337A'>\n",
    "<span>\n",
    "<p style='margin-top:1em; text-align:left'>\n",
    "<b>2. Check the python version which you are using. </b></p>\n",
    "</span></div>\n"
   ]
  },
  {
   "cell_type": "code",
   "execution_count": 8,
   "metadata": {},
   "outputs": [
    {
     "name": "stdout",
     "output_type": "stream",
     "text": [
      "Python 3.13.1\n"
     ]
    }
   ],
   "source": [
    "#start your code here\n",
    "!python --version"
   ]
  },
  {
   "cell_type": "markdown",
   "metadata": {
    "delateable": false,
    "editable": false
   },
   "source": [
    "<div class=\"warning\" style='padding:0.1em; background-color:#E9D8FD; color:#69337A'>\n",
    "<span>\n",
    "<p style='margin-top:1em; text-align:left'>\n",
    "<b>3. Design a Python program which can calculate the area by taking radius as input by 'user input' method. </b></p>\n",
    "<table>\n",
    "  <tr>\n",
    "  <td><td>\n",
    "      <br> instead of giving direct values try using \"<b>float(input())</b>\" </td>\n",
    "  </tr>\n",
    "</table>\n",
    "</span>\n",
    "</div>\n"
   ]
  },
  {
   "cell_type": "code",
   "execution_count": 7,
   "metadata": {},
   "outputs": [
    {
     "name": "stdin",
     "output_type": "stream",
     "text": [
      "Enter the Radius 12.5\n"
     ]
    },
    {
     "name": "stdout",
     "output_type": "stream",
     "text": [
      "The area of a circle with radius 12.5 is :490.87\n"
     ]
    }
   ],
   "source": [
    "#start your code here\n",
    "import math\n",
    "radius=float(input(\"Enter the Radius\"))\n",
    "area = math.pi*radius**2\n",
    "print(f\"The area of a circle with radius {radius} is :{area:.2f}\")"
   ]
  },
  {
   "cell_type": "markdown",
   "metadata": {
    "delateable": false,
    "editable": false
   },
   "source": [
    "<div class=\"warning\" style='padding:0.1em; background-color:#E9D8FD; color:#69337A'>\n",
    "<span>\n",
    "<p style='margin-top:1em; text-align:left'>\n",
    "<b>4. Write a python program which can take your first and last name seperately and execute as shown below. </b></p>\n",
    "<table>\n",
    "  <tr>\n",
    "  <td><td>\n",
    "      <br><b>Sample execution</b> : Hello 'first name' 'last name', hope you are doing good</td>\n",
    "  </tr>\n",
    "</table>\n",
    "</span></div>\n"
   ]
  },
  {
   "cell_type": "code",
   "execution_count": 6,
   "metadata": {},
   "outputs": [
    {
     "name": "stdin",
     "output_type": "stream",
     "text": [
      "Enter your first name Darshan\n",
      "Enter your last name Dinesh\n"
     ]
    },
    {
     "name": "stdout",
     "output_type": "stream",
     "text": [
      "Hello Darshan Dinesh, hope you are doing good\n"
     ]
    }
   ],
   "source": [
    "#start your code here\n",
    "first_name=input(\"Enter your first name\")\n",
    "last_name=input(\"Enter your last name\")\n",
    "print(f\"Hello {first_name} {last_name}, hope you are doing good\")"
   ]
  },
  {
   "cell_type": "markdown",
   "metadata": {
    "delateable": false,
    "editable": false
   },
   "source": [
    "\n",
    "\n"
   ]
  },
  {
   "cell_type": "code",
   "execution_count": 1,
   "metadata": {},
   "outputs": [
    {
     "name": "stdout",
     "output_type": "stream",
     "text": [
      "5 kg in grams is: 5000\n"
     ]
    }
   ],
   "source": [
    "# By mistake deleted question no.5 cell\n",
    "#Question is: 5. Write a python program which can convert kilograms to grams.\n",
    "#start your code here\n",
    "Kg=5\n",
    "grams=Kg*1000\n",
    "print(\"5 kg in grams is:\",grams)"
   ]
  },
  {
   "cell_type": "markdown",
   "metadata": {
    "delateable": false,
    "editable": false
   },
   "source": [
    "<div class=\"warning\" style='padding:0.1em; background-color:#E9D8FD; color:#69337A'>\n",
    "<span>\n",
    "<p style='margin-top:1em; text-align:left'>\n",
    "<b>6. Create a list and store the given elements in the list, and solve the following questions listed below.</b></p>\n",
    "<table>\n",
    "  <tr>\n",
    "  <td><td>\n",
    "      <br><b>Elements</b>: 'Bengaluru','New York', 1971, '1682', (1,2,3,4,5,'Is this tuple?'),\"'Hello,welcome to Python Programming'\"</td>\n",
    "  </tr>\n",
    "</table>\n",
    "</span>  \n",
    "\n",
    "- Try to extract entire tuple by using positive indexing  \n",
    "- Can we add elements into tuple after creating it?\n",
    "- Remove '1682' and 'New York' from the list\n",
    "- Discuss one practical application of tuple and lists\n",
    "- Access 'Bengaluru' by Negitive indexing\n",
    "- add 'Mumbai' into the list\n",
    "\n",
    "- Try to perform one operation on each removal operation on lists \n",
    "\n",
    "1. del\n",
    "2. remove\n",
    "3. pop\n",
    "- Try to perform one operation on each operational\n",
    "1. append\n",
    "2. entend\n",
    "3. insert</div>"
   ]
  },
  {
   "cell_type": "code",
   "execution_count": 4,
   "metadata": {},
   "outputs": [
    {
     "name": "stdout",
     "output_type": "stream",
     "text": [
      "Extracted entire tuple by using positive indexing:- (1, 2, 3, 4, 5, 'Is this tuple?')\n",
      "No, once created its element cannot be modified. Hence, tuples are immutable.\n",
      "Removed '1682' and 'New York' from the list:- ['Bengaluru', 1971, (1, 2, 3, 4, 5, 'Is this tuple?'), \"'Hello,welcome to Python Programming'\"]\n",
      "Tuple: Storing certain record in database (ex: Employee ID)\n",
      "List: List of Students in a classroom\n",
      "Accessed 'Bengaluru' by Negitive indexing:- Bengaluru\n",
      "Added 'Mumbai' into the list ['Bengaluru', 1971, (1, 2, 3, 4, 5, 'Is this tuple?'), \"'Hello,welcome to Python Programming'\", 'Mumbai']\n",
      "Deleted element \"Bengaluru\"- [1971, (1, 2, 3, 4, 5, 'Is this tuple?'), \"'Hello,welcome to Python Programming'\", 'Mumbai']\n",
      "Removed element \"1971\"- [(1, 2, 3, 4, 5, 'Is this tuple?'), \"'Hello,welcome to Python Programming'\", 'Mumbai']\n",
      "Pop the element \"Mumbai at the index 2\"- [(1, 2, 3, 4, 5, 'Is this tuple?'), \"'Hello,welcome to Python Programming'\"]\n",
      "Appended the element \"hi\"- [(1, 2, 3, 4, 5, 'Is this tuple?'), \"'Hello,welcome to Python Programming'\", 'hi']\n",
      "Extended \"list[4,5]\"- [(1, 2, 3, 4, 5, 'Is this tuple?'), \"'Hello,welcome to Python Programming'\", 'hi', 4, 5]\n",
      "Inserted element \"53\" at index 2 - [(1, 2, 3, 4, 5, 'Is this tuple?'), \"'Hello,welcome to Python Programming'\", 53, 'hi', 4, 5]\n"
     ]
    }
   ],
   "source": [
    "l1=['Bengaluru','New York', 1971, '1682', (1,2,3,4,5,'Is this tuple?'),\"'Hello,welcome to Python Programming'\"]\n",
    "print(\"Extracted entire tuple by using positive indexing:-\",l1[4])\n",
    "print(\"No, once created its element cannot be modified. Hence, tuples are immutable.\")\n",
    "l1.remove(\"1682\")\n",
    "l1.remove(\"New York\")\n",
    "print(\"Removed '1682' and 'New York' from the list:-\",l1)\n",
    "print(\"Tuple: Storing certain record in database (ex: Employee ID)\\nList: List of Students in a classroom\")\n",
    "print(\"Accessed 'Bengaluru' by Negitive indexing:-\",l1[-4])\n",
    "l1.append(\"Mumbai\")\n",
    "print(\"Added 'Mumbai' into the list\",l1)\n",
    "#Applied del operation for element \"Bengaluru\"\n",
    "del l1[0]\n",
    "print('Deleted element \"Bengaluru\"-',l1)\n",
    "#Tried to remove the element 1971\n",
    "l1.remove(1971)\n",
    "print('Removed element \"1971\"-',l1)\n",
    "#Tried to remove the element 'New York' at index 1\n",
    "l1.pop(2)\n",
    "print('Pop the element \"Mumbai at the index 2\"-',l1)\n",
    "#Added element \"hi\" at the end\n",
    "l1.append(\"hi\")\n",
    "print('Appended the element \"hi\"-',l1)\n",
    "#Added list [4,5]\n",
    "l1.extend([4,5])\n",
    "print('Extended \"list[4,5]\"-',l1)\n",
    "#Inserted element 53 at index 2\n",
    "l1.insert(2,53)\n",
    "print('Inserted element \"53\" at index 2 -',l1)"
   ]
  },
  {
   "cell_type": "markdown",
   "metadata": {
    "delateable": false,
    "editable": false
   },
   "source": [
    "<div class=\"warning\" style='padding:0.1em; background-color:#E9D8FD; color:#69337A'>\n",
    "<span>\n",
    "<p style='margin-top:1em; text-align:left'>\n",
    "<b>7. Write a python program which can calculate the electricity bill by considering the no. of units consumed and other parameters are mentioned below.</b></p>\n",
    "</span>  \n",
    "\n",
    "- If units consumed is less than 50 then bill amount should be 100INR.\n",
    "- If units consumed between 50 - 300 then each unit will be charged at 4.5 INR.\n",
    "- If units are consumed more than 300 then that billed individual have to pay base pay as 1000INR and 300 units will be reduced from his total consumed units and for remaining units 7 INR will be charged for each unit.\n",
    "</div>\n",
    "\n",
    "\n"
   ]
  },
  {
   "cell_type": "code",
   "execution_count": 25,
   "metadata": {},
   "outputs": [
    {
     "name": "stdin",
     "output_type": "stream",
     "text": [
      "Enter the number of units consumed:  25\n"
     ]
    },
    {
     "name": "stdout",
     "output_type": "stream",
     "text": [
      "The electricity bill for 25.0 units consumed is: 100\n"
     ]
    }
   ],
   "source": [
    "#start your code here\n",
    "def electricity_bill(units_consumed):\n",
    "    if units_consumed < 50:\n",
    "        bill_amount = 100 \n",
    "    elif 50 <= units_consumed <= 300:\n",
    "        bill_amount = units_consumed * 4.5\n",
    "    else:\n",
    "        base_pay = 1000  \n",
    "        extra_units = units_consumed - 300\n",
    "        additional_charge = extra_units * 7 \n",
    "        bill_amount = base_pay + additional_charge\n",
    "\n",
    "    return bill_amount\n",
    "\n",
    "units = float(input(\"Enter the number of units consumed: \"))\n",
    "electricity_bill = electricity_bill(units)\n",
    "print(f\"The electricity bill for {units} units consumed is: {electricity_bill}\")"
   ]
  },
  {
   "cell_type": "markdown",
   "metadata": {
    "delateable": false,
    "editable": false
   },
   "source": [
    "<div class=\"warning\" style='padding:0.1em; background-color:#E9D8FD; color:#69337A'>\n",
    "<span>\n",
    "<p style='margin-top:1em; text-align:left'>\n",
    "<b>8. Write a program to calculate the tax of the vehicle based on the price.</b></p>\n",
    "</span>  \n",
    "- below are the parameters to consider\n",
    "\n",
    "    Cost price (in Rs)                                            Tax\n",
    "        > 150000                                                   18%\n",
    "        >100000 and <=150000                                       15 %\n",
    "        > 0 and <= 100000                                          10%\n",
    "         \n",
    "        "
   ]
  },
  {
   "cell_type": "code",
   "execution_count": 8,
   "metadata": {},
   "outputs": [
    {
     "name": "stdin",
     "output_type": "stream",
     "text": [
      "Enter the price of the vehicle: 150000\n"
     ]
    },
    {
     "name": "stdout",
     "output_type": "stream",
     "text": [
      "Tax to be paid is: 22500.0\n"
     ]
    }
   ],
   "source": [
    "#start your code here\n",
    "def vehicle_tax(price):\n",
    "    if price > 150000:\n",
    "        tax_rate = 18\n",
    "    elif 100000 < price <=150000:\n",
    "        tax_rate = 15\n",
    "    else:\n",
    "        tax_rate = 10\n",
    "    tax = price * tax_rate/100\n",
    "    return tax\n",
    "\n",
    "price=int(input(\"Enter the price of the vehicle:\"))\n",
    "print(\"Tax to be paid is:\", vehicle_tax(price))"
   ]
  },
  {
   "cell_type": "markdown",
   "metadata": {
    "delateable": false,
    "editable": false
   },
   "source": [
    "<div class=\"warning\" style='padding:0.1em; background-color:#E9D8FD; color:#69337A'>\n",
    "<span>\n",
    "<p style='margin-top:1em; text-align:left'>\n",
    "<b>9. Write a program to check if the input is positive or negative.</b></p>\n",
    "</span></div>\n",
    "\n"
   ]
  },
  {
   "cell_type": "code",
   "execution_count": 20,
   "metadata": {},
   "outputs": [
    {
     "name": "stdin",
     "output_type": "stream",
     "text": [
      "Enter a number: -78\n"
     ]
    },
    {
     "name": "stdout",
     "output_type": "stream",
     "text": [
      "The numner is NEGATIVE\n"
     ]
    }
   ],
   "source": [
    "#start your code here\n",
    "num = float(input(\"Enter a number:\"))\n",
    "if num>0:\n",
    "    print(\"The numner is POSITIVE\")\n",
    "elif num<0:\n",
    "    print(\"The numner is NEGATIVE\")\n",
    "else:\n",
    "    print(\"The number is ZERO\")"
   ]
  },
  {
   "cell_type": "markdown",
   "metadata": {
    "delateable": false,
    "editable": false
   },
   "source": [
    "<div class=\"warning\" style='padding:0.1em; background-color:#E9D8FD; color:#69337A'>\n",
    "<span>\n",
    "<p style='margin-top:1em; text-align:left'>\n",
    "<b>10. Define a function which can multiply the string with n number of times.</b></p>\n",
    "</span>\n",
    "\n",
    " \n",
    "- string = \"python programming\"</div>\n"
   ]
  },
  {
   "cell_type": "code",
   "execution_count": 24,
   "metadata": {},
   "outputs": [
    {
     "name": "stdout",
     "output_type": "stream",
     "text": [
      "python programming, python programming, python programming, python programming, python programming, \n"
     ]
    }
   ],
   "source": [
    "#start your code here\n",
    "def multi_string(s,n):\n",
    "    return s*n\n",
    "result=multi_string(\"python programming, \",5)\n",
    "print(result)"
   ]
  },
  {
   "cell_type": "markdown",
   "metadata": {
    "delateable": false,
    "editable": false
   },
   "source": [
    "<div class=\"warning\" style='padding:0.1em; background-color:#E9D8FD; color:#69337A'>\n",
    "<span>\n",
    "<p style='margin-top:1em; text-align:left'>\n",
    "<b>11. Define a function which can sum up two numbers.</b></p>\n",
    "</span>\n",
    "\n"
   ]
  },
  {
   "cell_type": "code",
   "execution_count": 29,
   "metadata": {},
   "outputs": [
    {
     "name": "stdout",
     "output_type": "stream",
     "text": [
      "The sum of two numbers: 5\n"
     ]
    }
   ],
   "source": [
    "#start your code here\n",
    "def sum_up(x,y):\n",
    "    return x+y\n",
    "result=sum_up(3,2)\n",
    "print(\"The sum of two numbers:\", result)"
   ]
  },
  {
   "cell_type": "markdown",
   "metadata": {
    "delateable": false,
    "editable": false
   },
   "source": [
    "<div class=\"warning\" style='padding:0.1em; background-color:#E9D8FD; color:#69337A'>\n",
    "<span>\n",
    "<p style='margin-top:1em; text-align:left'>\n",
    "<b>12. Define a function which can identify if a user has entered specific string or not.</b></p>\n",
    "</span>\n",
    "\n",
    " \n",
    "- specified string = \"India\"</div>\n",
    "\n"
   ]
  },
  {
   "cell_type": "code",
   "execution_count": 34,
   "metadata": {},
   "outputs": [
    {
     "name": "stdin",
     "output_type": "stream",
     "text": [
      "Enter a string India\n"
     ]
    },
    {
     "name": "stdout",
     "output_type": "stream",
     "text": [
      "Yes, entered string matches the specified string\n"
     ]
    }
   ],
   "source": [
    "#start your code here\n",
    "def check_input(user_input):\n",
    "    specified_string=\"India\"\n",
    "    if user_input==specified_string:\n",
    "        return True\n",
    "    else:\n",
    "        return False\n",
    "\n",
    "user_input=input(\"Enter a string\")\n",
    "if check_input(user_input):\n",
    "    print(\"Yes, entered string matches the specified string\")\n",
    "else:\n",
    "    print(\"No, entered string doesn't match\")\n",
    "    "
   ]
  },
  {
   "cell_type": "markdown",
   "metadata": {
    "delateable": false,
    "editable": false
   },
   "source": [
    "<div class=\"warning\" style='padding:0.1em; background-color:#E9D8FD; color:#69337A'>\n",
    "<span>\n",
    "<p style='margin-top:1em; text-align:left'>\n",
    "<b>13. Define a function which will greet by taking user name as input.</b></p>\n",
    "</span>\n",
    " \n",
    "- input = name\n",
    "- hello 'name', hope you are doing well</div>\n",
    "\n",
    "\n",
    "\n"
   ]
  },
  {
   "cell_type": "code",
   "execution_count": 45,
   "metadata": {},
   "outputs": [
    {
     "name": "stdin",
     "output_type": "stream",
     "text": [
      "Enter your name Darshan\n"
     ]
    },
    {
     "name": "stdout",
     "output_type": "stream",
     "text": [
      "hello Darshan, hope you are doing well\n"
     ]
    },
    {
     "name": "stdin",
     "output_type": "stream",
     "text": [
      "Enter your name Dinesh\n"
     ]
    },
    {
     "name": "stdout",
     "output_type": "stream",
     "text": [
      "hello Dinesh, hope you are doing well\n"
     ]
    }
   ],
   "source": [
    "#start your code here\n",
    "def greet_user():\n",
    "    name=input(\"Enter your name\")\n",
    "    print(f\"hello {name}, hope you are doing well\")\n",
    "\n",
    "greet_user()\n",
    "#---------------------------------------------------------------\n",
    "def greet_user(name):\n",
    "    return True\n",
    "    \n",
    "name=input(\"Enter your name\")\n",
    "print(f\"hello {name}, hope you are doing well\")"
   ]
  },
  {
   "cell_type": "markdown",
   "metadata": {
    "delateable": false,
    "editable": false
   },
   "source": [
    "<div class=\"warning\" style='padding:0.1em; background-color:#E9D8FD; color:#69337A'>\n",
    "<span>\n",
    "<p style='margin-top:1em; text-align:left'>\n",
    "<b>14. Define a function which can give us the entire prime numbers within the given range.</b></p>\n",
    "<b>- For range(), input should be taken from the user.</b></p>\n",
    "</span>\n",
    "</div>\n",
    "\n"
   ]
  },
  {
   "cell_type": "code",
   "execution_count": 49,
   "metadata": {},
   "outputs": [
    {
     "name": "stdin",
     "output_type": "stream",
     "text": [
      "Enter strating number of the range 10\n",
      "enter end number of the range 50\n"
     ]
    },
    {
     "name": "stdout",
     "output_type": "stream",
     "text": [
      "Prime numbers between 10 and 50:\n",
      "11 13 15 17 19 21 23 25 27 29 31 33 35 37 39 41 43 45 47 49 "
     ]
    }
   ],
   "source": [
    "#start your code here\n",
    "def is_prime(num):\n",
    "    if num<=1:\n",
    "        return False\n",
    "    for i in range(2,int(num**0.5)+1):\n",
    "        if num%i==0:\n",
    "            return False\n",
    "        return True\n",
    "\n",
    "def prime_in_range(start,end):\n",
    "    print(f\"Prime numbers between {start} and {end}:\")\n",
    "    for num in range (start,end+1):\n",
    "        if is_prime(num):\n",
    "            print(num,end=\" \")\n",
    "\n",
    "start=int(input(\"Enter strating number of the range\"))\n",
    "end=int(input(\"Enter end number of the range\"))\n",
    "prime_in_range(start,end)"
   ]
  },
  {
   "cell_type": "markdown",
   "metadata": {
    "delateable": false,
    "editable": false
   },
   "source": [
    "<div class=\"warning\" style='padding:0.1em; background-color:#E9D8FD; color:#69337A'>\n",
    "<span>\n",
    "<p style='margin-top:1em; text-align:left'>\n",
    "<b>15.Check if a given string is palindrome.\n",
    "</b></p>\n",
    "</span>\n",
    "<br> A string is palindrome if the reverse of the string is same as itself.\n",
    "<br> For eg. madam\n",
    "<br> Print \" `string` is palindrome\" if it is palindrome \n",
    "<br> else \" `string` is not a palindrome\" if it is not a palindrome.\n",
    "\n",
    "<br><b> Hint : Use slicing to get reverse of the string.\n"
   ]
  },
  {
   "cell_type": "code",
   "execution_count": 57,
   "metadata": {},
   "outputs": [
    {
     "name": "stdin",
     "output_type": "stream",
     "text": [
      "Enter a string hello\n"
     ]
    },
    {
     "name": "stdout",
     "output_type": "stream",
     "text": [
      "String is not palindrome\n"
     ]
    }
   ],
   "source": [
    "#start your code here\n",
    "def is_palindrome(s):\n",
    "    #s=s.replace(\" \",\"\").lower()\n",
    "    return s == s[::-1]\n",
    "\n",
    "string=input(\"Enter a string\")\n",
    "if is_palindrome(string):\n",
    "    print(\"String is palindrome\")\n",
    "else:\n",
    "    print(\"String is not palindrome\")"
   ]
  },
  {
   "cell_type": "markdown",
   "metadata": {
    "delateable": false,
    "editable": false
   },
   "source": [
    "<div class=\"warning\" style='padding:0.1em; background-color:#E9D8FD; color:#69337A'>\n",
    "<span>\n",
    "<p style='margin-top:1em; text-align:left'>\n",
    "<b>16. Write a python program to find n is a leap year.\n",
    "</b></p>\n",
    "</span>\n",
    "<br> Print \"n is a leap year\" if the given year is leap year.\n",
    "<br> Print \"n is not a leap year\" if the given year is not leap year.\n",
    "<br> Replace n with given year.\n",
    "    \n",
    "<br><b>   Hint : Use nested if-else </b>\n",
    "</div>\n"
   ]
  },
  {
   "cell_type": "code",
   "execution_count": 63,
   "metadata": {},
   "outputs": [
    {
     "name": "stdin",
     "output_type": "stream",
     "text": [
      "Enter a year 1900\n"
     ]
    },
    {
     "name": "stdout",
     "output_type": "stream",
     "text": [
      "1900 is not a leap year\n"
     ]
    }
   ],
   "source": [
    "#start your codes here\n",
    "def leap_year(year):\n",
    "    if year %4==0:\n",
    "        if year % 100 ==0:\n",
    "            if year %400 ==0:\n",
    "                return True\n",
    "            else:\n",
    "                return False\n",
    "        else:\n",
    "            return True\n",
    "    else:\n",
    "        return False\n",
    "\n",
    "year=int(input(\"Enter a year\"))\n",
    "\n",
    "if leap_year(year):\n",
    "    print(f\"{year} is a leap year\")\n",
    "else:\n",
    "    print(f\"{year} is not a leap year\")"
   ]
  },
  {
   "cell_type": "markdown",
   "metadata": {
    "delateable": false,
    "editable": false
   },
   "source": [
    "<div class=\"warning\" style='padding:0.1em; background-color:#E9D8FD; color:#69337A'>\n",
    "<span>\n",
    "<p style='margin-top:1em; text-align:left'>\n",
    "<b>17. Define a function to check if n is leap year.</b></p>\n",
    "</span>\n",
    "   \n",
    "<b> Hint: Using the calendar module </b>\n",
    "</div>\n"
   ]
  },
  {
   "cell_type": "code",
   "execution_count": null,
   "metadata": {},
   "outputs": [],
   "source": [
    "#start your codes here"
   ]
  },
  {
   "cell_type": "code",
   "execution_count": 65,
   "metadata": {},
   "outputs": [
    {
     "name": "stdin",
     "output_type": "stream",
     "text": [
      "Enter a year 2024\n"
     ]
    },
    {
     "name": "stdout",
     "output_type": "stream",
     "text": [
      "2024 is a leap year\n"
     ]
    }
   ],
   "source": [
    "import calendar\n",
    "def leap_year(year):\n",
    "    #calendar.isleap(year) :- checks whether the given year is a leap year. It returns True or False\n",
    "    return calendar.isleap(year)\n",
    "\n",
    "year=int(input(\"Enter a year\"))\n",
    "\n",
    "if leap_year(year):\n",
    "    print(f\"{year} is a leap year\")\n",
    "else:\n",
    "    print(f\"{year} is not a leap year\")"
   ]
  },
  {
   "cell_type": "markdown",
   "metadata": {
    "delateable": false,
    "editable": false
   },
   "source": [
    "<div class=\"warning\" style='padding:0.1em; background-color:#E9D8FD; color:#69337A'>\n",
    "<span>\n",
    "<p style='margin-top:1em; text-align:left'>\n",
    "<b>18. Find the largest among three numbers.</b></p>\n",
    "</span>\n",
    "\n",
    " eg. Consider a,b,c as the three numbers, find which is the  largest number among them."
   ]
  },
  {
   "cell_type": "code",
   "execution_count": 66,
   "metadata": {},
   "outputs": [
    {
     "name": "stdin",
     "output_type": "stream",
     "text": [
      "Enter the first number 2\n",
      "Enter the second number 3\n",
      "Enter the third number 4\n"
     ]
    },
    {
     "name": "stdout",
     "output_type": "stream",
     "text": [
      "The largest number is: 4\n"
     ]
    }
   ],
   "source": [
    "#start your code here\n",
    "def largest_number(a,b,c):\n",
    "    if a>b and a>c:\n",
    "        return a\n",
    "    elif b>=a and b>=c:\n",
    "        return b\n",
    "    else:\n",
    "        return c\n",
    "\n",
    "num1=input(\"Enter the first number\")\n",
    "num2=input(\"Enter the second number\")\n",
    "num3=input(\"Enter the third number\")\n",
    "\n",
    "largest=largest_number(num1,num2,num3)\n",
    "print(f\"The largest number is: {largest}\")"
   ]
  },
  {
   "cell_type": "markdown",
   "metadata": {
    "delateable": false,
    "editable": false
   },
   "source": [
    "\n",
    "<div class=\"warning\" style='padding:0.1em; background-color:#E9D8FD; color:#69337A'>\n",
    "<span>\n",
    "<p style='margin-top:1em; text-align:left'>\n",
    "<b>19. Write a python program to print even numbers from 1 to 15 by using range() function.\n",
    "</b></p>\n",
    "</span>\n"
   ]
  },
  {
   "cell_type": "code",
   "execution_count": 31,
   "metadata": {},
   "outputs": [
    {
     "name": "stdout",
     "output_type": "stream",
     "text": [
      "2 4 6 8 10 12 14 \n",
      "Another method\n",
      "2 4 6 8 10 12 14 "
     ]
    }
   ],
   "source": [
    "#start your code here\n",
    "for num in range(2,16,2):\n",
    "    print(num, end=\" \")\n",
    "\n",
    "# or-------------------------------\n",
    "print(\"\\nAnother method\")\n",
    "for num in range(1, 16):\n",
    "    if num % 2 == 0:  # Check if the number is even\n",
    "        print(num, end=\" \")"
   ]
  },
  {
   "cell_type": "markdown",
   "metadata": {
    "delateable": false,
    "editable": false
   },
   "source": [
    "<div class=\"warning\" style='padding:0.1em; background-color:#E9D8FD; color:#69337A'>\n",
    "<span>\n",
    "<p style='margin-top:1em; text-align:left'>\n",
    "<b>20. Write a program to guess the integer which is selected by computer using  randint() function.\n",
    "</b></p>\n",
    "</span>\n",
    "\n",
    "- Use random() and randint().\n",
    "- Range should be 1 to 10.\n",
    "- If user's number is greater than 10 then program should say your guess is too high.\n",
    "- If user input is matches with the computer choice then your program should say \"yey! correct guess\".\n",
    "- Otherwise your program should say too low.\n",
    "\n",
    "    <b>- Important point to note is, this must be an iterative process until the correct guess.</div>"
   ]
  },
  {
   "cell_type": "code",
   "execution_count": 19,
   "metadata": {},
   "outputs": [
    {
     "name": "stdout",
     "output_type": "stream",
     "text": [
      "Number choosen by computer is: 3\n"
     ]
    },
    {
     "name": "stdin",
     "output_type": "stream",
     "text": [
      "Guess a number between 1 and 10: 2\n"
     ]
    },
    {
     "name": "stdout",
     "output_type": "stream",
     "text": [
      "Too low\n"
     ]
    },
    {
     "name": "stdin",
     "output_type": "stream",
     "text": [
      "Guess a number between 1 and 10: 8\n"
     ]
    },
    {
     "name": "stdout",
     "output_type": "stream",
     "text": [
      "Too high\n"
     ]
    },
    {
     "name": "stdin",
     "output_type": "stream",
     "text": [
      "Guess a number between 1 and 10: 3\n"
     ]
    },
    {
     "name": "stdout",
     "output_type": "stream",
     "text": [
      "yey! correct guess\n"
     ]
    }
   ],
   "source": [
    "#### start your code here\n",
    "import random\n",
    "target = random.randint(1,10)\n",
    "print(\"Number choosen by computer is:\",target)\n",
    "while True:\n",
    "    #try:\n",
    "        guess = int(input(\"Guess a number between 1 and 10:\"))\n",
    "        if guess > 10:\n",
    "            print(\"Your guess is too high\")\n",
    "        elif guess<target:\n",
    "            print(\"Too low\")\n",
    "        elif guess>target:\n",
    "            print(\"Too high\")\n",
    "        else:\n",
    "            print(\"yey! correct guess\")\n",
    "            break\n",
    "    #except ValueError:\n",
    "        #print(\"Please enter a valid interger\")\n",
    "\n"
   ]
  }
 ],
 "metadata": {
  "kernelspec": {
   "display_name": "Python 3 (ipykernel)",
   "language": "python",
   "name": "python3"
  },
  "language_info": {
   "codemirror_mode": {
    "name": "ipython",
    "version": 3
   },
   "file_extension": ".py",
   "mimetype": "text/x-python",
   "name": "python",
   "nbconvert_exporter": "python",
   "pygments_lexer": "ipython3",
   "version": "3.13.1"
  }
 },
 "nbformat": 4,
 "nbformat_minor": 4
}
